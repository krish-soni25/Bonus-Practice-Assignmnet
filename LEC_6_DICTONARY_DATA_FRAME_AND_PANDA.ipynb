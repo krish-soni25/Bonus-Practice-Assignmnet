{
  "nbformat": 4,
  "nbformat_minor": 0,
  "metadata": {
    "colab": {
      "name": "LEC 6 DICTONARY DATA FRAME AND PANDA  ",
      "provenance": []
    },
    "kernelspec": {
      "name": "python3",
      "display_name": "Python 3"
    },
    "language_info": {
      "name": "python"
    }
  },
  "cells": [
    {
      "cell_type": "markdown",
      "metadata": {
        "id": "9-hTO-ywh8OG"
      },
      "source": [
        "#Lecture 6 Dictonary Dataframe and Panda \n",
        "student name: krish        \n",
        "\n",
        "division : E\n"
      ]
    },
    {
      "cell_type": "markdown",
      "metadata": {
        "id": "ush2ziBxjFMX"
      },
      "source": [
        "Dictionaries "
      ]
    },
    {
      "cell_type": "code",
      "metadata": {
        "colab": {
          "base_uri": "https://localhost:8080/"
        },
        "id": "wURdQyfJjI6a",
        "outputId": "e5695583-c28a-4a88-a923-25daf0ef12e0"
      },
      "source": [
        "student_1= {\"name\": \"krish\",\n",
        "            \"age\": 19,\n",
        "          \"division\": \"E\",\n",
        "          \"favorite food\": [\"pizza\",\"dosa\",\"pav bhaji\"],\n",
        "         \"favorite movies\": [\"ZNMD\",\"gravity\"]\n",
        "          }\n",
        "student_1\n",
        "        "
      ],
      "execution_count": 4,
      "outputs": [
        {
          "output_type": "execute_result",
          "data": {
            "text/plain": [
              "{'age': 19,\n",
              " 'division': 'E',\n",
              " 'favorite food': ['pizza', 'dosa', 'pav bhaji'],\n",
              " 'favorite movies': ['ZNMD', 'gravity'],\n",
              " 'name': 'krish'}"
            ]
          },
          "metadata": {},
          "execution_count": 4
        }
      ]
    },
    {
      "cell_type": "code",
      "metadata": {
        "colab": {
          "base_uri": "https://localhost:8080/"
        },
        "id": "Wm3l6fh8nCB5",
        "outputId": "7f444a29-50d5-4b96-fa75-008ee98d7c3b"
      },
      "source": [
        "#print the list of favorite food \n",
        "student_1[\"favorite food\"]"
      ],
      "execution_count": 5,
      "outputs": [
        {
          "output_type": "execute_result",
          "data": {
            "text/plain": [
              "['pizza', 'dosa', 'pav bhaji']"
            ]
          },
          "metadata": {},
          "execution_count": 5
        }
      ]
    },
    {
      "cell_type": "code",
      "metadata": {
        "colab": {
          "base_uri": "https://localhost:8080/",
          "height": 35
        },
        "id": "Xn-aPKNnnf-6",
        "outputId": "c29dd256-65ea-4e0e-ff76-1d37d7dbef80"
      },
      "source": [
        "#print the division \n",
        "student_1[\"division\"]"
      ],
      "execution_count": 6,
      "outputs": [
        {
          "output_type": "execute_result",
          "data": {
            "application/vnd.google.colaboratory.intrinsic+json": {
              "type": "string"
            },
            "text/plain": [
              "'E'"
            ]
          },
          "metadata": {},
          "execution_count": 6
        }
      ]
    },
    {
      "cell_type": "code",
      "metadata": {
        "colab": {
          "base_uri": "https://localhost:8080/"
        },
        "id": "A0lQ77FSno-A",
        "outputId": "47a2c6a6-2622-43c1-b43b-f31bfe83b072"
      },
      "source": [
        "#add a new key to favorite songs \n",
        "student_1[\"favorite songs \"]=[\"blinding lights\",\"stargazing\",\"sicko mode\"]\n",
        "student_1"
      ],
      "execution_count": 8,
      "outputs": [
        {
          "output_type": "execute_result",
          "data": {
            "text/plain": [
              "{'age': 19,\n",
              " 'division': 'E',\n",
              " 'favorite food': ['pizza', 'dosa', 'pav bhaji'],\n",
              " 'favorite movies': ['ZNMD', 'gravity'],\n",
              " 'favorite songs ': ['blinding lights', 'stargazing', 'sicko mode'],\n",
              " 'name': 'krish'}"
            ]
          },
          "metadata": {},
          "execution_count": 8
        }
      ]
    },
    {
      "cell_type": "code",
      "metadata": {
        "colab": {
          "base_uri": "https://localhost:8080/"
        },
        "id": "PMu0q0uGoknb",
        "outputId": "0cae881f-09c0-4956-e999-6380471271d6"
      },
      "source": [
        "#over writing a value \n",
        "student_1[\"division\"]=\"A\"\n",
        "student_1\n"
      ],
      "execution_count": 9,
      "outputs": [
        {
          "output_type": "execute_result",
          "data": {
            "text/plain": [
              "{'age': 19,\n",
              " 'division': 'A',\n",
              " 'favorite food': ['pizza', 'dosa', 'pav bhaji'],\n",
              " 'favorite movies': ['ZNMD', 'gravity'],\n",
              " 'favorite songs ': ['blinding lights', 'stargazing', 'sicko mode'],\n",
              " 'name': 'krish'}"
            ]
          },
          "metadata": {},
          "execution_count": 9
        }
      ]
    },
    {
      "cell_type": "code",
      "metadata": {
        "colab": {
          "base_uri": "https://localhost:8080/"
        },
        "id": "XEwPpHC6pBGS",
        "outputId": "09400179-79e6-4b16-95ed-6c262fa1f67a"
      },
      "source": [
        "#add a movie to the list \n",
        "student_1[\"favorite movies\"].append(\"race2\")\n",
        "student_1"
      ],
      "execution_count": 10,
      "outputs": [
        {
          "output_type": "execute_result",
          "data": {
            "text/plain": [
              "{'age': 19,\n",
              " 'division': 'A',\n",
              " 'favorite food': ['pizza', 'dosa', 'pav bhaji'],\n",
              " 'favorite movies': ['ZNMD', 'gravity', 'race2'],\n",
              " 'favorite songs ': ['blinding lights', 'stargazing', 'sicko mode'],\n",
              " 'name': 'krish'}"
            ]
          },
          "metadata": {},
          "execution_count": 10
        }
      ]
    },
    {
      "cell_type": "code",
      "metadata": {
        "colab": {
          "base_uri": "https://localhost:8080/"
        },
        "id": "-O51nVSNqImr",
        "outputId": "d4a8659b-4344-4f34-a69a-095305cd30c1"
      },
      "source": [
        "#total keys in my dictionary \n",
        "total_keys_in_student_1= len(student_1)\n",
        "total_keys_in_student_1"
      ],
      "execution_count": 11,
      "outputs": [
        {
          "output_type": "execute_result",
          "data": {
            "text/plain": [
              "6"
            ]
          },
          "metadata": {},
          "execution_count": 11
        }
      ]
    },
    {
      "cell_type": "markdown",
      "metadata": {
        "id": "LP-xEjlFrvZY"
      },
      "source": [
        "Dataframes and Pandas "
      ]
    },
    {
      "cell_type": "code",
      "metadata": {
        "id": "z-Vjqs1jre7c"
      },
      "source": [
        "#setup \n",
        "import pandas as pd \n"
      ],
      "execution_count": 13,
      "outputs": []
    },
    {
      "cell_type": "code",
      "metadata": {
        "id": "YMV_qahcsUQY"
      },
      "source": [
        "div_scores_dictionary = {\"student_name\": [\"Jay\", \"Aaryan\", \"Sahil\",\"Riya\",\"Shubh\"],\n",
        "                         \"math_scores\": [20,56,76,78,90],\n",
        "                         \"chemistry_scores\": [32,36,78,23,100],\n",
        "                         \"information_technology_scores\": [34,6,88,100,45],\n",
        "                         \"physics_scores\": [6,88,48,90,25]\n",
        "                         }\n",
        "                         \n",
        "div_emails_dictionary = {\"student_name\": [\"Jay\", \"Aaryan\", \"Sahil\",\"Riya\",\"Shubh\", \"Abdul\"],\n",
        "                           \"student_email\": [\"Jay@gmail.com\", \"Aaryan@gmail.com\", \"Sahil@gmail.com\",\"Riya@gmail.com\",\"Shubh@gmail.com\", \"Abdual@gmail.com\"]\n",
        "                         }"
      ],
      "execution_count": 12,
      "outputs": []
    },
    {
      "cell_type": "code",
      "metadata": {
        "colab": {
          "base_uri": "https://localhost:8080/",
          "height": 204
        },
        "id": "UuHEDgwos7_S",
        "outputId": "fde44230-c5cc-4562-ba24-105e334db54d"
      },
      "source": [
        "#converting the scores dictionary into dataframe\n",
        "scores_df = pd.DataFrame(div_scores_dictionary)\n",
        "scores_df"
      ],
      "execution_count": 20,
      "outputs": [
        {
          "output_type": "execute_result",
          "data": {
            "text/html": [
              "<div>\n",
              "<style scoped>\n",
              "    .dataframe tbody tr th:only-of-type {\n",
              "        vertical-align: middle;\n",
              "    }\n",
              "\n",
              "    .dataframe tbody tr th {\n",
              "        vertical-align: top;\n",
              "    }\n",
              "\n",
              "    .dataframe thead th {\n",
              "        text-align: right;\n",
              "    }\n",
              "</style>\n",
              "<table border=\"1\" class=\"dataframe\">\n",
              "  <thead>\n",
              "    <tr style=\"text-align: right;\">\n",
              "      <th></th>\n",
              "      <th>student_name</th>\n",
              "      <th>math_scores</th>\n",
              "      <th>chemistry_scores</th>\n",
              "      <th>information_technology_scores</th>\n",
              "      <th>physics_scores</th>\n",
              "    </tr>\n",
              "  </thead>\n",
              "  <tbody>\n",
              "    <tr>\n",
              "      <th>0</th>\n",
              "      <td>Jay</td>\n",
              "      <td>20</td>\n",
              "      <td>32</td>\n",
              "      <td>34</td>\n",
              "      <td>6</td>\n",
              "    </tr>\n",
              "    <tr>\n",
              "      <th>1</th>\n",
              "      <td>Aaryan</td>\n",
              "      <td>56</td>\n",
              "      <td>36</td>\n",
              "      <td>6</td>\n",
              "      <td>88</td>\n",
              "    </tr>\n",
              "    <tr>\n",
              "      <th>2</th>\n",
              "      <td>Sahil</td>\n",
              "      <td>76</td>\n",
              "      <td>78</td>\n",
              "      <td>88</td>\n",
              "      <td>48</td>\n",
              "    </tr>\n",
              "    <tr>\n",
              "      <th>3</th>\n",
              "      <td>Riya</td>\n",
              "      <td>78</td>\n",
              "      <td>23</td>\n",
              "      <td>100</td>\n",
              "      <td>90</td>\n",
              "    </tr>\n",
              "    <tr>\n",
              "      <th>4</th>\n",
              "      <td>Shubh</td>\n",
              "      <td>90</td>\n",
              "      <td>100</td>\n",
              "      <td>45</td>\n",
              "      <td>25</td>\n",
              "    </tr>\n",
              "  </tbody>\n",
              "</table>\n",
              "</div>"
            ],
            "text/plain": [
              "  student_name  math_scores  ...  information_technology_scores  physics_scores\n",
              "0          Jay           20  ...                             34               6\n",
              "1       Aaryan           56  ...                              6              88\n",
              "2        Sahil           76  ...                             88              48\n",
              "3         Riya           78  ...                            100              90\n",
              "4        Shubh           90  ...                             45              25\n",
              "\n",
              "[5 rows x 5 columns]"
            ]
          },
          "metadata": {},
          "execution_count": 20
        }
      ]
    },
    {
      "cell_type": "code",
      "metadata": {
        "colab": {
          "base_uri": "https://localhost:8080/",
          "height": 142
        },
        "id": "wwDK-2S5u30O",
        "outputId": "fae9972e-19d1-4bd2-fc26-e21cfb41dcfb"
      },
      "source": [
        "scores_df.head(3)"
      ],
      "execution_count": 21,
      "outputs": [
        {
          "output_type": "execute_result",
          "data": {
            "text/html": [
              "<div>\n",
              "<style scoped>\n",
              "    .dataframe tbody tr th:only-of-type {\n",
              "        vertical-align: middle;\n",
              "    }\n",
              "\n",
              "    .dataframe tbody tr th {\n",
              "        vertical-align: top;\n",
              "    }\n",
              "\n",
              "    .dataframe thead th {\n",
              "        text-align: right;\n",
              "    }\n",
              "</style>\n",
              "<table border=\"1\" class=\"dataframe\">\n",
              "  <thead>\n",
              "    <tr style=\"text-align: right;\">\n",
              "      <th></th>\n",
              "      <th>student_name</th>\n",
              "      <th>math_scores</th>\n",
              "      <th>chemistry_scores</th>\n",
              "      <th>information_technology_scores</th>\n",
              "      <th>physics_scores</th>\n",
              "    </tr>\n",
              "  </thead>\n",
              "  <tbody>\n",
              "    <tr>\n",
              "      <th>0</th>\n",
              "      <td>Jay</td>\n",
              "      <td>20</td>\n",
              "      <td>32</td>\n",
              "      <td>34</td>\n",
              "      <td>6</td>\n",
              "    </tr>\n",
              "    <tr>\n",
              "      <th>1</th>\n",
              "      <td>Aaryan</td>\n",
              "      <td>56</td>\n",
              "      <td>36</td>\n",
              "      <td>6</td>\n",
              "      <td>88</td>\n",
              "    </tr>\n",
              "    <tr>\n",
              "      <th>2</th>\n",
              "      <td>Sahil</td>\n",
              "      <td>76</td>\n",
              "      <td>78</td>\n",
              "      <td>88</td>\n",
              "      <td>48</td>\n",
              "    </tr>\n",
              "  </tbody>\n",
              "</table>\n",
              "</div>"
            ],
            "text/plain": [
              "  student_name  math_scores  ...  information_technology_scores  physics_scores\n",
              "0          Jay           20  ...                             34               6\n",
              "1       Aaryan           56  ...                              6              88\n",
              "2        Sahil           76  ...                             88              48\n",
              "\n",
              "[3 rows x 5 columns]"
            ]
          },
          "metadata": {},
          "execution_count": 21
        }
      ]
    },
    {
      "cell_type": "code",
      "metadata": {
        "colab": {
          "base_uri": "https://localhost:8080/",
          "height": 142
        },
        "id": "b5ZZIOEDu6n7",
        "outputId": "88e1da3c-acc3-4a82-9b87-6633be55fedd"
      },
      "source": [
        "scores_df.sample(3)"
      ],
      "execution_count": 22,
      "outputs": [
        {
          "output_type": "execute_result",
          "data": {
            "text/html": [
              "<div>\n",
              "<style scoped>\n",
              "    .dataframe tbody tr th:only-of-type {\n",
              "        vertical-align: middle;\n",
              "    }\n",
              "\n",
              "    .dataframe tbody tr th {\n",
              "        vertical-align: top;\n",
              "    }\n",
              "\n",
              "    .dataframe thead th {\n",
              "        text-align: right;\n",
              "    }\n",
              "</style>\n",
              "<table border=\"1\" class=\"dataframe\">\n",
              "  <thead>\n",
              "    <tr style=\"text-align: right;\">\n",
              "      <th></th>\n",
              "      <th>student_name</th>\n",
              "      <th>math_scores</th>\n",
              "      <th>chemistry_scores</th>\n",
              "      <th>information_technology_scores</th>\n",
              "      <th>physics_scores</th>\n",
              "    </tr>\n",
              "  </thead>\n",
              "  <tbody>\n",
              "    <tr>\n",
              "      <th>2</th>\n",
              "      <td>Sahil</td>\n",
              "      <td>76</td>\n",
              "      <td>78</td>\n",
              "      <td>88</td>\n",
              "      <td>48</td>\n",
              "    </tr>\n",
              "    <tr>\n",
              "      <th>1</th>\n",
              "      <td>Aaryan</td>\n",
              "      <td>56</td>\n",
              "      <td>36</td>\n",
              "      <td>6</td>\n",
              "      <td>88</td>\n",
              "    </tr>\n",
              "    <tr>\n",
              "      <th>4</th>\n",
              "      <td>Shubh</td>\n",
              "      <td>90</td>\n",
              "      <td>100</td>\n",
              "      <td>45</td>\n",
              "      <td>25</td>\n",
              "    </tr>\n",
              "  </tbody>\n",
              "</table>\n",
              "</div>"
            ],
            "text/plain": [
              "  student_name  math_scores  ...  information_technology_scores  physics_scores\n",
              "2        Sahil           76  ...                             88              48\n",
              "1       Aaryan           56  ...                              6              88\n",
              "4        Shubh           90  ...                             45              25\n",
              "\n",
              "[3 rows x 5 columns]"
            ]
          },
          "metadata": {},
          "execution_count": 22
        }
      ]
    },
    {
      "cell_type": "code",
      "metadata": {
        "colab": {
          "base_uri": "https://localhost:8080/",
          "height": 204
        },
        "id": "tW7m38zFu8YK",
        "outputId": "4e7da492-7ffa-4cb0-e7bc-96921e979afc"
      },
      "source": [
        "# add a coloumn called \"total_scores\"\n",
        "scores_df[\"total_scores\"]= scores_df['math_scores']+ scores_df['chemistry_scores']+ scores_df['physics_scores']+ scores_df['information_technology_scores']\n",
        "scores_df"
      ],
      "execution_count": 24,
      "outputs": [
        {
          "output_type": "execute_result",
          "data": {
            "text/html": [
              "<div>\n",
              "<style scoped>\n",
              "    .dataframe tbody tr th:only-of-type {\n",
              "        vertical-align: middle;\n",
              "    }\n",
              "\n",
              "    .dataframe tbody tr th {\n",
              "        vertical-align: top;\n",
              "    }\n",
              "\n",
              "    .dataframe thead th {\n",
              "        text-align: right;\n",
              "    }\n",
              "</style>\n",
              "<table border=\"1\" class=\"dataframe\">\n",
              "  <thead>\n",
              "    <tr style=\"text-align: right;\">\n",
              "      <th></th>\n",
              "      <th>student_name</th>\n",
              "      <th>math_scores</th>\n",
              "      <th>chemistry_scores</th>\n",
              "      <th>information_technology_scores</th>\n",
              "      <th>physics_scores</th>\n",
              "      <th>total_scores</th>\n",
              "    </tr>\n",
              "  </thead>\n",
              "  <tbody>\n",
              "    <tr>\n",
              "      <th>0</th>\n",
              "      <td>Jay</td>\n",
              "      <td>20</td>\n",
              "      <td>32</td>\n",
              "      <td>34</td>\n",
              "      <td>6</td>\n",
              "      <td>92</td>\n",
              "    </tr>\n",
              "    <tr>\n",
              "      <th>1</th>\n",
              "      <td>Aaryan</td>\n",
              "      <td>56</td>\n",
              "      <td>36</td>\n",
              "      <td>6</td>\n",
              "      <td>88</td>\n",
              "      <td>186</td>\n",
              "    </tr>\n",
              "    <tr>\n",
              "      <th>2</th>\n",
              "      <td>Sahil</td>\n",
              "      <td>76</td>\n",
              "      <td>78</td>\n",
              "      <td>88</td>\n",
              "      <td>48</td>\n",
              "      <td>290</td>\n",
              "    </tr>\n",
              "    <tr>\n",
              "      <th>3</th>\n",
              "      <td>Riya</td>\n",
              "      <td>78</td>\n",
              "      <td>23</td>\n",
              "      <td>100</td>\n",
              "      <td>90</td>\n",
              "      <td>291</td>\n",
              "    </tr>\n",
              "    <tr>\n",
              "      <th>4</th>\n",
              "      <td>Shubh</td>\n",
              "      <td>90</td>\n",
              "      <td>100</td>\n",
              "      <td>45</td>\n",
              "      <td>25</td>\n",
              "      <td>260</td>\n",
              "    </tr>\n",
              "  </tbody>\n",
              "</table>\n",
              "</div>"
            ],
            "text/plain": [
              "  student_name  math_scores  ...  physics_scores  total_scores\n",
              "0          Jay           20  ...               6            92\n",
              "1       Aaryan           56  ...              88           186\n",
              "2        Sahil           76  ...              48           290\n",
              "3         Riya           78  ...              90           291\n",
              "4        Shubh           90  ...              25           260\n",
              "\n",
              "[5 rows x 6 columns]"
            ]
          },
          "metadata": {},
          "execution_count": 24
        }
      ]
    },
    {
      "cell_type": "code",
      "metadata": {
        "colab": {
          "base_uri": "https://localhost:8080/",
          "height": 204
        },
        "id": "mIukkVA5xkWZ",
        "outputId": "ae11cd59-ec9a-4a73-c76e-fc39053ae157"
      },
      "source": [
        "#add a coloumn called \"average_scores\"\n",
        "scores_df[\"acerage_scores\"]= scores_df[\"total_scores\"]/4\n",
        "scores_df"
      ],
      "execution_count": 25,
      "outputs": [
        {
          "output_type": "execute_result",
          "data": {
            "text/html": [
              "<div>\n",
              "<style scoped>\n",
              "    .dataframe tbody tr th:only-of-type {\n",
              "        vertical-align: middle;\n",
              "    }\n",
              "\n",
              "    .dataframe tbody tr th {\n",
              "        vertical-align: top;\n",
              "    }\n",
              "\n",
              "    .dataframe thead th {\n",
              "        text-align: right;\n",
              "    }\n",
              "</style>\n",
              "<table border=\"1\" class=\"dataframe\">\n",
              "  <thead>\n",
              "    <tr style=\"text-align: right;\">\n",
              "      <th></th>\n",
              "      <th>student_name</th>\n",
              "      <th>math_scores</th>\n",
              "      <th>chemistry_scores</th>\n",
              "      <th>information_technology_scores</th>\n",
              "      <th>physics_scores</th>\n",
              "      <th>total_scores</th>\n",
              "      <th>acerage_scores</th>\n",
              "    </tr>\n",
              "  </thead>\n",
              "  <tbody>\n",
              "    <tr>\n",
              "      <th>0</th>\n",
              "      <td>Jay</td>\n",
              "      <td>20</td>\n",
              "      <td>32</td>\n",
              "      <td>34</td>\n",
              "      <td>6</td>\n",
              "      <td>92</td>\n",
              "      <td>23.00</td>\n",
              "    </tr>\n",
              "    <tr>\n",
              "      <th>1</th>\n",
              "      <td>Aaryan</td>\n",
              "      <td>56</td>\n",
              "      <td>36</td>\n",
              "      <td>6</td>\n",
              "      <td>88</td>\n",
              "      <td>186</td>\n",
              "      <td>46.50</td>\n",
              "    </tr>\n",
              "    <tr>\n",
              "      <th>2</th>\n",
              "      <td>Sahil</td>\n",
              "      <td>76</td>\n",
              "      <td>78</td>\n",
              "      <td>88</td>\n",
              "      <td>48</td>\n",
              "      <td>290</td>\n",
              "      <td>72.50</td>\n",
              "    </tr>\n",
              "    <tr>\n",
              "      <th>3</th>\n",
              "      <td>Riya</td>\n",
              "      <td>78</td>\n",
              "      <td>23</td>\n",
              "      <td>100</td>\n",
              "      <td>90</td>\n",
              "      <td>291</td>\n",
              "      <td>72.75</td>\n",
              "    </tr>\n",
              "    <tr>\n",
              "      <th>4</th>\n",
              "      <td>Shubh</td>\n",
              "      <td>90</td>\n",
              "      <td>100</td>\n",
              "      <td>45</td>\n",
              "      <td>25</td>\n",
              "      <td>260</td>\n",
              "      <td>65.00</td>\n",
              "    </tr>\n",
              "  </tbody>\n",
              "</table>\n",
              "</div>"
            ],
            "text/plain": [
              "  student_name  math_scores  ...  total_scores  acerage_scores\n",
              "0          Jay           20  ...            92           23.00\n",
              "1       Aaryan           56  ...           186           46.50\n",
              "2        Sahil           76  ...           290           72.50\n",
              "3         Riya           78  ...           291           72.75\n",
              "4        Shubh           90  ...           260           65.00\n",
              "\n",
              "[5 rows x 7 columns]"
            ]
          },
          "metadata": {},
          "execution_count": 25
        }
      ]
    },
    {
      "cell_type": "code",
      "metadata": {
        "id": "aTI98gl1z23T"
      },
      "source": [
        "scores_df.describe().transpose().to_csv(\"report card insights.csv\")"
      ],
      "execution_count": 27,
      "outputs": []
    }
  ]
}